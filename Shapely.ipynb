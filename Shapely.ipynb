{
 "cells": [
  {
   "cell_type": "code",
   "execution_count": 1,
   "id": "eb8ba3df",
   "metadata": {},
   "outputs": [],
   "source": [
    "import pandas as pd\n",
    "import geopandas as gpd\n",
    "import matplotlib as plt\n",
    "from shapely.geometry import Point, LineString, Polygon"
   ]
  },
  {
   "cell_type": "markdown",
   "id": "d8366ce3",
   "metadata": {},
   "source": [
    "# Point"
   ]
  },
  {
   "cell_type": "code",
   "execution_count": 2,
   "id": "9c4205a8",
   "metadata": {},
   "outputs": [
    {
     "data": {
      "image/svg+xml": [
       "<svg xmlns=\"http://www.w3.org/2000/svg\" xmlns:xlink=\"http://www.w3.org/1999/xlink\" width=\"100.0\" height=\"100.0\" viewBox=\"-1.0 0.0 2.0 2.0\" preserveAspectRatio=\"xMinYMin meet\"><g transform=\"matrix(1,0,0,-1,0,2.0)\"><circle cx=\"0.0\" cy=\"1.0\" r=\"0.06\" stroke=\"#555555\" stroke-width=\"0.02\" fill=\"#66cc99\" opacity=\"0.6\" /></g></svg>"
      ],
      "text/plain": [
       "<shapely.geometry.point.Point at 0x7f38dc5f4880>"
      ]
     },
     "execution_count": 2,
     "metadata": {},
     "output_type": "execute_result"
    }
   ],
   "source": [
    "point = Point(0.0, 1.0)\n",
    "point"
   ]
  },
  {
   "cell_type": "code",
   "execution_count": 3,
   "id": "40d1b4e4",
   "metadata": {},
   "outputs": [
    {
     "name": "stdout",
     "output_type": "stream",
     "text": [
      "POINT (0 1)\n"
     ]
    }
   ],
   "source": [
    "print(point)"
   ]
  },
  {
   "cell_type": "code",
   "execution_count": 4,
   "id": "3dcc98f3",
   "metadata": {},
   "outputs": [
    {
     "data": {
      "text/plain": [
       "'Point'"
      ]
     },
     "execution_count": 4,
     "metadata": {},
     "output_type": "execute_result"
    }
   ],
   "source": [
    "point.geom_type"
   ]
  },
  {
   "cell_type": "markdown",
   "id": "186931e4",
   "metadata": {},
   "source": [
    "# LineString"
   ]
  },
  {
   "cell_type": "code",
   "execution_count": 5,
   "id": "94df072f",
   "metadata": {},
   "outputs": [
    {
     "data": {
      "image/svg+xml": [
       "<svg xmlns=\"http://www.w3.org/2000/svg\" xmlns:xlink=\"http://www.w3.org/1999/xlink\" width=\"100.0\" height=\"100.0\" viewBox=\"-0.2 -0.2 5.4 2.4000000000000004\" preserveAspectRatio=\"xMinYMin meet\"><g transform=\"matrix(1,0,0,-1,0,2.0)\"><polyline fill=\"none\" stroke=\"#66cc99\" stroke-width=\"0.10800000000000001\" points=\"0.0,0.0 1.0,1.0 3.0,0.0 5.0,2.0\" opacity=\"0.8\" /></g></svg>"
      ],
      "text/plain": [
       "<shapely.geometry.linestring.LineString at 0x7f38e0ea0a00>"
      ]
     },
     "execution_count": 5,
     "metadata": {},
     "output_type": "execute_result"
    }
   ],
   "source": [
    "line = LineString([(0,0),(1,1),(3,0),(5,2)])\n",
    "line"
   ]
  },
  {
   "cell_type": "code",
   "execution_count": 6,
   "id": "5fcf36d7",
   "metadata": {},
   "outputs": [
    {
     "name": "stdout",
     "output_type": "stream",
     "text": [
      "LINESTRING (0 0, 1 1, 3 0, 5 2)\n"
     ]
    }
   ],
   "source": [
    "print(line)"
   ]
  },
  {
   "cell_type": "markdown",
   "id": "9135aaec",
   "metadata": {},
   "source": [
    "# Polygon"
   ]
  },
  {
   "cell_type": "code",
   "execution_count": 10,
   "id": "60554432",
   "metadata": {},
   "outputs": [
    {
     "data": {
      "image/svg+xml": [
       "<svg xmlns=\"http://www.w3.org/2000/svg\" xmlns:xlink=\"http://www.w3.org/1999/xlink\" width=\"100.0\" height=\"100.0\" viewBox=\"-0.12 -0.12 3.24 1.2400000000000002\" preserveAspectRatio=\"xMinYMin meet\"><g transform=\"matrix(1,0,0,-1,0,1.0)\"><path fill-rule=\"evenodd\" fill=\"#66cc99\" stroke=\"#555555\" stroke-width=\"0.06480000000000001\" opacity=\"0.6\" d=\"M 0.0,0.0 L 1.0,1.0 L 3.0,0.0 L 0.0,0.0 z\" /></g></svg>"
      ],
      "text/plain": [
       "<shapely.geometry.polygon.Polygon at 0x7f38dc5f4fa0>"
      ]
     },
     "execution_count": 10,
     "metadata": {},
     "output_type": "execute_result"
    }
   ],
   "source": [
    "polygon = Polygon([(0,0),(1,1),(3,0)])\n",
    "polygon"
   ]
  },
  {
   "cell_type": "code",
   "execution_count": 9,
   "id": "d8bbf706",
   "metadata": {},
   "outputs": [
    {
     "data": {
      "image/svg+xml": [
       "<svg xmlns=\"http://www.w3.org/2000/svg\" xmlns:xlink=\"http://www.w3.org/1999/xlink\" width=\"100.0\" height=\"100.0\" viewBox=\"-0.04 -0.04 1.08 1.08\" preserveAspectRatio=\"xMinYMin meet\"><g transform=\"matrix(1,0,0,-1,0,1.0)\"><path fill-rule=\"evenodd\" fill=\"#66cc99\" stroke=\"#555555\" stroke-width=\"0.0216\" opacity=\"0.6\" d=\"M 0.0,0.0 L 0.0,1.0 L 1.0,1.0 L 1.0,0.0 L 0.0,0.0 z\" /></g></svg>"
      ],
      "text/plain": [
       "<shapely.geometry.polygon.Polygon at 0x7f38dc5f4d60>"
      ]
     },
     "execution_count": 9,
     "metadata": {},
     "output_type": "execute_result"
    }
   ],
   "source": [
    "polygon = Polygon([(0,0),(0,1),(1,1),(1,0)])\n",
    "polygon"
   ]
  },
  {
   "cell_type": "markdown",
   "id": "ddc7a37e",
   "metadata": {},
   "source": [
    "# Geometry Collection"
   ]
  },
  {
   "cell_type": "code",
   "execution_count": 12,
   "id": "5b3a5f48",
   "metadata": {},
   "outputs": [],
   "source": [
    "from shapely.geometry import MultiPoint, MultiLineString, MultiPolygon"
   ]
  },
  {
   "cell_type": "code",
   "execution_count": 14,
   "id": "9e50c09e",
   "metadata": {},
   "outputs": [
    {
     "data": {
      "image/svg+xml": [
       "<svg xmlns=\"http://www.w3.org/2000/svg\" xmlns:xlink=\"http://www.w3.org/1999/xlink\" width=\"100.0\" height=\"100.0\" viewBox=\"-0.04 -0.04 1.08 0.08\" preserveAspectRatio=\"xMinYMin meet\"><g transform=\"matrix(1,0,0,-1,0,0.0)\"><g><circle cx=\"0.0\" cy=\"0.0\" r=\"0.0324\" stroke=\"#555555\" stroke-width=\"0.0108\" fill=\"#66cc99\" opacity=\"0.6\" /><circle cx=\"1.0\" cy=\"0.0\" r=\"0.0324\" stroke=\"#555555\" stroke-width=\"0.0108\" fill=\"#66cc99\" opacity=\"0.6\" /></g></g></svg>"
      ],
      "text/plain": [
       "<shapely.geometry.multipoint.MultiPoint at 0x7f38dc5f4250>"
      ]
     },
     "execution_count": 14,
     "metadata": {},
     "output_type": "execute_result"
    }
   ],
   "source": [
    "# multipoint\n",
    "points = MultiPoint([(0,0), (1,0) ])\n",
    "points"
   ]
  },
  {
   "cell_type": "code",
   "execution_count": 15,
   "id": "dccab963",
   "metadata": {},
   "outputs": [
    {
     "name": "stdout",
     "output_type": "stream",
     "text": [
      "MULTIPOINT (0 0, 1 0)\n"
     ]
    }
   ],
   "source": [
    "print(points)"
   ]
  },
  {
   "cell_type": "code",
   "execution_count": 16,
   "id": "3b15d6bd",
   "metadata": {},
   "outputs": [
    {
     "data": {
      "image/svg+xml": [
       "<svg xmlns=\"http://www.w3.org/2000/svg\" xmlns:xlink=\"http://www.w3.org/1999/xlink\" width=\"100.0\" height=\"100.0\" viewBox=\"-1.08 -0.08 2.16 1.1600000000000001\" preserveAspectRatio=\"xMinYMin meet\"><g transform=\"matrix(1,0,0,-1,0,1.0)\"><g><polyline fill=\"none\" stroke=\"#66cc99\" stroke-width=\"0.0432\" points=\"0.0,0.0 1.0,1.0\" opacity=\"0.8\" /><polyline fill=\"none\" stroke=\"#66cc99\" stroke-width=\"0.0432\" points=\"-1.0,0.0 1.0,0.0\" opacity=\"0.8\" /></g></g></svg>"
      ],
      "text/plain": [
       "<shapely.geometry.multilinestring.MultiLineString at 0x7f389b2ff910>"
      ]
     },
     "execution_count": 16,
     "metadata": {},
     "output_type": "execute_result"
    }
   ],
   "source": [
    "#MultiLineString\n",
    "coords = [((0,0),(1,1)), ((-1,0),(1,0))]\n",
    "lines = MultiLineString(coords)\n",
    "lines"
   ]
  },
  {
   "cell_type": "code",
   "execution_count": 17,
   "id": "d9e1c01b",
   "metadata": {},
   "outputs": [
    {
     "data": {
      "image/svg+xml": [
       "<svg xmlns=\"http://www.w3.org/2000/svg\" xmlns:xlink=\"http://www.w3.org/1999/xlink\" width=\"100.0\" height=\"100.0\" viewBox=\"-0.12 -0.12 3.24 1.2400000000000002\" preserveAspectRatio=\"xMinYMin meet\"><g transform=\"matrix(1,0,0,-1,0,1.0)\"><g><path fill-rule=\"evenodd\" fill=\"#66cc99\" stroke=\"#555555\" stroke-width=\"0.06480000000000001\" opacity=\"0.6\" d=\"M 0.0,0.0 L 0.0,1.0 L 1.0,1.0 L 1.0,0.0 L 0.0,0.0 z\" /><path fill-rule=\"evenodd\" fill=\"#66cc99\" stroke=\"#555555\" stroke-width=\"0.06480000000000001\" opacity=\"0.6\" d=\"M 2.0,0.0 L 2.0,1.0 L 3.0,1.0 L 3.0,0.0 L 2.0,0.0 z\" /></g></g></svg>"
      ],
      "text/plain": [
       "<shapely.geometry.multipolygon.MultiPolygon at 0x7f389b22e6a0>"
      ]
     },
     "execution_count": 17,
     "metadata": {},
     "output_type": "execute_result"
    }
   ],
   "source": [
    "#MultiPolygon\n",
    "a = Polygon([(0,0),(0,1),(1,1),(1,0)])\n",
    "b = Polygon([(2,0),(2,1),(3,1),(3,0)])\n",
    "\n",
    "polygons = MultiPolygon([a, b])\n",
    "polygons"
   ]
  },
  {
   "cell_type": "markdown",
   "id": "36e77567",
   "metadata": {},
   "source": [
    "# LineStringの長さ"
   ]
  },
  {
   "cell_type": "code",
   "execution_count": 18,
   "id": "551f7345",
   "metadata": {},
   "outputs": [
    {
     "data": {
      "image/svg+xml": [
       "<svg xmlns=\"http://www.w3.org/2000/svg\" xmlns:xlink=\"http://www.w3.org/1999/xlink\" width=\"100.0\" height=\"100.0\" viewBox=\"0.92 -1.08 1.1600000000000001 2.16\" preserveAspectRatio=\"xMinYMin meet\"><g transform=\"matrix(1,0,0,-1,0,0.0)\"><polyline fill=\"none\" stroke=\"#66cc99\" stroke-width=\"0.0432\" points=\"1.0,-1.0 1.0,0.0 2.0,0.0 2.0,1.0\" opacity=\"0.8\" /></g></svg>"
      ],
      "text/plain": [
       "<shapely.geometry.linestring.LineString at 0x7f389b22e2e0>"
      ]
     },
     "execution_count": 18,
     "metadata": {},
     "output_type": "execute_result"
    }
   ],
   "source": [
    "l = LineString([(1,-1),(1,0),(2,0),(2,1)])\n",
    "l"
   ]
  },
  {
   "cell_type": "code",
   "execution_count": 19,
   "id": "b0a7a70f",
   "metadata": {},
   "outputs": [
    {
     "data": {
      "text/plain": [
       "3.0"
      ]
     },
     "execution_count": 19,
     "metadata": {},
     "output_type": "execute_result"
    }
   ],
   "source": [
    "l.length"
   ]
  },
  {
   "cell_type": "markdown",
   "id": "fb7f1b67",
   "metadata": {},
   "source": [
    "# Polygonの面積"
   ]
  },
  {
   "cell_type": "code",
   "execution_count": 20,
   "id": "009f851a",
   "metadata": {},
   "outputs": [
    {
     "data": {
      "image/svg+xml": [
       "<svg xmlns=\"http://www.w3.org/2000/svg\" xmlns:xlink=\"http://www.w3.org/1999/xlink\" width=\"100.0\" height=\"100.0\" viewBox=\"2.92 -1.08 1.1600000000000001 2.16\" preserveAspectRatio=\"xMinYMin meet\"><g transform=\"matrix(1,0,0,-1,0,0.0)\"><path fill-rule=\"evenodd\" fill=\"#66cc99\" stroke=\"#555555\" stroke-width=\"0.0432\" opacity=\"0.6\" d=\"M 3.0,-1.0 L 4.0,0.0 L 3.0,1.0 L 3.0,-1.0 z\" /></g></svg>"
      ],
      "text/plain": [
       "<shapely.geometry.polygon.Polygon at 0x7f389b22e280>"
      ]
     },
     "execution_count": 20,
     "metadata": {},
     "output_type": "execute_result"
    }
   ],
   "source": [
    "p = Polygon([(3,-1),(4,0),(3,1)])\n",
    "p"
   ]
  },
  {
   "cell_type": "code",
   "execution_count": 21,
   "id": "37de0fcf",
   "metadata": {},
   "outputs": [
    {
     "data": {
      "text/plain": [
       "1.0"
      ]
     },
     "execution_count": 21,
     "metadata": {},
     "output_type": "execute_result"
    }
   ],
   "source": [
    "p.area"
   ]
  },
  {
   "cell_type": "markdown",
   "id": "a864e299",
   "metadata": {},
   "source": [
    "# Buffer"
   ]
  },
  {
   "cell_type": "code",
   "execution_count": 22,
   "id": "de7ee8d9",
   "metadata": {},
   "outputs": [],
   "source": [
    "s = gpd.GeoSeries(\n",
    "[\n",
    "    Point(0,0),\n",
    "    LineString([(1,-1),(1,0),(2,0),(2,1)]),\n",
    "    Polygon([(3,-1),(4,0),(3,1)])\n",
    "])"
   ]
  },
  {
   "cell_type": "code",
   "execution_count": 23,
   "id": "71714f12",
   "metadata": {},
   "outputs": [
    {
     "data": {
      "text/plain": [
       "0                              POINT (0.00000 0.00000)\n",
       "1    LINESTRING (1.00000 -1.00000, 1.00000 0.00000,...\n",
       "2    POLYGON ((3.00000 -1.00000, 4.00000 0.00000, 3...\n",
       "dtype: geometry"
      ]
     },
     "execution_count": 23,
     "metadata": {},
     "output_type": "execute_result"
    }
   ],
   "source": [
    "s"
   ]
  },
  {
   "cell_type": "code",
   "execution_count": 24,
   "id": "1e0e1773",
   "metadata": {},
   "outputs": [
    {
     "data": {
      "image/svg+xml": [
       "<svg xmlns=\"http://www.w3.org/2000/svg\" xmlns:xlink=\"http://www.w3.org/1999/xlink\" width=\"100.0\" height=\"100.0\" viewBox=\"-1.0 -1.0 2.0 2.0\" preserveAspectRatio=\"xMinYMin meet\"><g transform=\"matrix(1,0,0,-1,0,0.0)\"><circle cx=\"0.0\" cy=\"0.0\" r=\"0.06\" stroke=\"#555555\" stroke-width=\"0.02\" fill=\"#66cc99\" opacity=\"0.6\" /></g></svg>"
      ],
      "text/plain": [
       "<shapely.geometry.point.Point at 0x7f389b28dfa0>"
      ]
     },
     "execution_count": 24,
     "metadata": {},
     "output_type": "execute_result"
    }
   ],
   "source": [
    "s[0]"
   ]
  },
  {
   "cell_type": "code",
   "execution_count": 25,
   "id": "0861b49a",
   "metadata": {},
   "outputs": [
    {
     "data": {
      "image/svg+xml": [
       "<svg xmlns=\"http://www.w3.org/2000/svg\" xmlns:xlink=\"http://www.w3.org/1999/xlink\" width=\"100.0\" height=\"100.0\" viewBox=\"0.92 -1.08 1.1600000000000001 2.16\" preserveAspectRatio=\"xMinYMin meet\"><g transform=\"matrix(1,0,0,-1,0,0.0)\"><polyline fill=\"none\" stroke=\"#66cc99\" stroke-width=\"0.0432\" points=\"1.0,-1.0 1.0,0.0 2.0,0.0 2.0,1.0\" opacity=\"0.8\" /></g></svg>"
      ],
      "text/plain": [
       "<shapely.geometry.linestring.LineString at 0x7f389b28dfd0>"
      ]
     },
     "execution_count": 25,
     "metadata": {},
     "output_type": "execute_result"
    }
   ],
   "source": [
    "s[1]"
   ]
  },
  {
   "cell_type": "code",
   "execution_count": 26,
   "id": "919ce5ed",
   "metadata": {},
   "outputs": [
    {
     "data": {
      "image/svg+xml": [
       "<svg xmlns=\"http://www.w3.org/2000/svg\" xmlns:xlink=\"http://www.w3.org/1999/xlink\" width=\"100.0\" height=\"100.0\" viewBox=\"2.92 -1.08 1.1600000000000001 2.16\" preserveAspectRatio=\"xMinYMin meet\"><g transform=\"matrix(1,0,0,-1,0,0.0)\"><path fill-rule=\"evenodd\" fill=\"#66cc99\" stroke=\"#555555\" stroke-width=\"0.0432\" opacity=\"0.6\" d=\"M 3.0,-1.0 L 4.0,0.0 L 3.0,1.0 L 3.0,-1.0 z\" /></g></svg>"
      ],
      "text/plain": [
       "<shapely.geometry.polygon.Polygon at 0x7f389b28de20>"
      ]
     },
     "execution_count": 26,
     "metadata": {},
     "output_type": "execute_result"
    }
   ],
   "source": [
    "s[2]"
   ]
  },
  {
   "cell_type": "code",
   "execution_count": 27,
   "id": "f9f513a8",
   "metadata": {},
   "outputs": [
    {
     "data": {
      "text/plain": [
       "0    POLYGON ((0.50000 0.00000, 0.49759 -0.04901, 0...\n",
       "1    POLYGON ((0.50000 0.00000, 0.50241 0.04901, 0....\n",
       "2    POLYGON ((2.50000 -1.00000, 2.50000 1.00000, 2...\n",
       "dtype: geometry"
      ]
     },
     "execution_count": 27,
     "metadata": {},
     "output_type": "execute_result"
    }
   ],
   "source": [
    "s.buffer(0.5)"
   ]
  },
  {
   "cell_type": "code",
   "execution_count": 28,
   "id": "7e169005",
   "metadata": {},
   "outputs": [
    {
     "data": {
      "image/svg+xml": [
       "<svg xmlns=\"http://www.w3.org/2000/svg\" xmlns:xlink=\"http://www.w3.org/1999/xlink\" width=\"100.0\" height=\"100.0\" viewBox=\"-0.54 -0.54 1.08 1.08\" preserveAspectRatio=\"xMinYMin meet\"><g transform=\"matrix(1,0,0,-1,0,0.0)\"><path fill-rule=\"evenodd\" fill=\"#66cc99\" stroke=\"#555555\" stroke-width=\"0.0216\" opacity=\"0.6\" d=\"M 0.5,0.0 L 0.49759236333609846,-0.04900857016478025 L 0.49039264020161527,-0.09754516100806404 L 0.47847016786610447,-0.14514233862723105 L 0.4619397662556435,-0.1913417161825447 L 0.44096063217417764,-0.2356983684129986 L 0.4157348061512728,-0.27778511650980087 L 0.3865052266813687,-0.31719664208182247 L 0.35355339059327406,-0.35355339059327345 L 0.31719664208182313,-0.38650522668136816 L 0.27778511650980153,-0.41573480615127234 L 0.2356983684129993,-0.44096063217417725 L 0.19134171618254542,-0.46193976625564315 L 0.1451423386272318,-0.47847016786610425 L 0.09754516100806482,-0.4903926402016151 L 0.049008570164781044,-0.49759236333609835 L 8.077722872162934e-16,-0.5 L -0.04900857016477944,-0.4975923633360985 L -0.09754516100806324,-0.4903926402016154 L -0.14514233862723025,-0.4784701678661047 L -0.19134171618254392,-0.46193976625564376 L -0.23569836841299785,-0.440960632174178 L -0.27778511650980026,-0.4157348061512732 L -0.3171966420818218,-0.3865052266813693 L -0.35355339059327295,-0.35355339059327456 L -0.38650522668136766,-0.3171966420818238 L -0.4157348061512719,-0.27778511650980214 L -0.44096063217417686,-0.2356983684130001 L -0.46193976625564287,-0.19134171618254617 L -0.47847016786610397,-0.14514233862723266 L -0.49039264020161494,-0.09754516100806561 L -0.4975923633360983,-0.04900857016478196 L -0.5,-1.6155445744325867e-15 L -0.4975923633360986,0.04900857016477875 L -0.49039264020161555,0.09754516100806243 L -0.4784701678661049,0.14514233862722958 L -0.4619397662556441,0.19134171618254317 L -0.44096063217417836,0.23569836841299724 L -0.41573480615127373,0.2777851165097995 L -0.38650522668136966,0.3171966420818213 L -0.35355339059327523,0.3535533905932723 L -0.3171966420818243,0.3865052266813672 L -0.2777851165098029,0.4157348061512714 L -0.2356983684130009,0.4409606321741764 L -0.1913417161825468,0.4619397662556426 L -0.14514233862723333,0.4784701678661038 L -0.09754516100806651,0.49039264020161477 L -0.049008570164782876,0.4975923633360982 L -2.3122945591863644e-15,0.5 L 0.04900857016477783,0.4975923633360987 L 0.09754516100806153,0.4903926402016157 L 0.14514233862722892,0.47847016786610513 L 0.19134171618254253,0.46193976625564437 L 0.23569836841299643,0.4409606321741788 L 0.2777851165097987,0.4157348061512742 L 0.31719664208182075,0.3865052266813701 L 0.3535533905932718,0.35355339059327573 L 0.3865052266813666,0.317196642081825 L 0.4157348061512709,0.2777851165098037 L 0.4409606321741762,0.23569836841300132 L 0.4619397662556422,0.19134171618254767 L 0.4784701678661035,0.14514233862723422 L 0.49039264020161455,0.09754516100806741 L 0.49759236333609813,0.04900857016478335 L 0.5,0.0 z\" /></g></svg>"
      ],
      "text/plain": [
       "<shapely.geometry.polygon.Polygon at 0x7f38dc5f41f0>"
      ]
     },
     "execution_count": 28,
     "metadata": {},
     "output_type": "execute_result"
    }
   ],
   "source": [
    "s.buffer(0.5)[0]"
   ]
  },
  {
   "cell_type": "code",
   "execution_count": 29,
   "id": "f7f15351",
   "metadata": {},
   "outputs": [
    {
     "name": "stdout",
     "output_type": "stream",
     "text": [
      "POLYGON ((0.5 0, 0.4975923633360985 -0.04900857016478025, 0.4903926402016153 -0.09754516100806404, 0.4784701678661045 -0.1451423386272311, 0.4619397662556435 -0.1913417161825447, 0.4409606321741776 -0.2356983684129986, 0.4157348061512728 -0.2777851165098009, 0.3865052266813687 -0.3171966420818225, 0.3535533905932741 -0.3535533905932735, 0.3171966420818231 -0.3865052266813682, 0.2777851165098015 -0.4157348061512723, 0.2356983684129993 -0.4409606321741772, 0.1913417161825454 -0.4619397662556431, 0.1451423386272318 -0.4784701678661042, 0.09754516100806482 -0.4903926402016151, 0.04900857016478104 -0.4975923633360984, 8.077722872162934e-16 -0.5, -0.04900857016477944 -0.4975923633360985, -0.09754516100806324 -0.4903926402016154, -0.1451423386272302 -0.4784701678661047, -0.1913417161825439 -0.4619397662556438, -0.2356983684129978 -0.440960632174178, -0.2777851165098003 -0.4157348061512732, -0.3171966420818218 -0.3865052266813693, -0.353553390593273 -0.3535533905932746, -0.3865052266813677 -0.3171966420818238, -0.4157348061512719 -0.2777851165098021, -0.4409606321741769 -0.2356983684130001, -0.4619397662556429 -0.1913417161825462, -0.478470167866104 -0.1451423386272327, -0.4903926402016149 -0.09754516100806561, -0.4975923633360983 -0.04900857016478196, -0.5 -1.615544574432587e-15, -0.4975923633360986 0.04900857016477875, -0.4903926402016155 0.09754516100806243, -0.4784701678661049 0.1451423386272296, -0.4619397662556441 0.1913417161825432, -0.4409606321741784 0.2356983684129972, -0.4157348061512737 0.2777851165097995, -0.3865052266813697 0.3171966420818213, -0.3535533905932752 0.3535533905932723, -0.3171966420818243 0.3865052266813672, -0.2777851165098029 0.4157348061512714, -0.2356983684130009 0.4409606321741764, -0.1913417161825468 0.4619397662556426, -0.1451423386272333 0.4784701678661038, -0.09754516100806651 0.4903926402016148, -0.04900857016478288 0.4975923633360982, -2.312294559186364e-15 0.5, 0.04900857016477783 0.4975923633360987, 0.09754516100806153 0.4903926402016157, 0.1451423386272289 0.4784701678661051, 0.1913417161825425 0.4619397662556444, 0.2356983684129964 0.4409606321741788, 0.2777851165097987 0.4157348061512742, 0.3171966420818207 0.3865052266813701, 0.3535533905932718 0.3535533905932757, 0.3865052266813666 0.317196642081825, 0.4157348061512709 0.2777851165098037, 0.4409606321741762 0.2356983684130013, 0.4619397662556422 0.1913417161825477, 0.4784701678661035 0.1451423386272342, 0.4903926402016145 0.09754516100806741, 0.4975923633360981 0.04900857016478335, 0.5 0))\n"
     ]
    }
   ],
   "source": [
    "print(s.buffer(0.5)[0])"
   ]
  },
  {
   "cell_type": "code",
   "execution_count": 30,
   "id": "49868c11",
   "metadata": {},
   "outputs": [
    {
     "data": {
      "image/svg+xml": [
       "<svg xmlns=\"http://www.w3.org/2000/svg\" xmlns:xlink=\"http://www.w3.org/1999/xlink\" width=\"100.0\" height=\"100.0\" viewBox=\"0.38 -1.62 2.24 3.24\" preserveAspectRatio=\"xMinYMin meet\"><g transform=\"matrix(1,0,0,-1,0,0.0)\"><path fill-rule=\"evenodd\" fill=\"#66cc99\" stroke=\"#555555\" stroke-width=\"0.06480000000000001\" opacity=\"0.6\" d=\"M 0.5,0.0 L 0.5024076366639016,0.04900857016478041 L 0.5096073597983848,0.0975451610080643 L 0.5215298321338956,0.1451423386272312 L 0.5380602337443566,0.19134171618254495 L 0.5590393678258225,0.23569836841299893 L 0.5842651938487273,0.2777851165098011 L 0.6134947733186316,0.31719664208182274 L 0.6464466094067263,0.3535533905932738 L 0.6828033579181774,0.38650522668136855 L 0.722214883490199,0.41573480615127273 L 0.7643016315870012,0.4409606321741775 L 0.8086582838174552,0.46193976625564337 L 0.854857661372769,0.47847016786610447 L 0.9024548389919359,0.4903926402016152 L 0.9509914298352197,0.49759236333609846 L 1.0,0.5 L 1.5,0.5 L 1.5,1.0 L 1.5024076366639016,1.049008570164781 L 1.509607359798385,1.0975451610080649 L 1.5215298321338957,1.145142338627232 L 1.538060233744357,1.1913417161825455 L 1.5590393678258228,1.2356983684129994 L 1.5842651938487278,1.2777851165098015 L 1.613494773318632,1.3171966420818233 L 1.6464466094067265,1.3535533905932742 L 1.6828033579181776,1.3865052266813687 L 1.7222148834901991,1.415734806151273 L 1.7643016315870015,1.4409606321741777 L 1.8086582838174554,1.4619397662556435 L 1.854857661372769,1.4784701678661045 L 1.902454838991936,1.4903926402016152 L 1.9509914298352198,1.4975923633360986 L 2.0,1.5 L 2.0490085701647804,1.4975923633360986 L 2.097545161008064,1.4903926402016152 L 2.145142338627231,1.4784701678661045 L 2.191341716182545,1.4619397662556435 L 2.2356983684129985,1.4409606321741777 L 2.2777851165098006,1.415734806151273 L 2.3171966420818224,1.3865052266813687 L 2.3535533905932735,1.353553390593274 L 2.386505226681368,1.3171966420818233 L 2.4157348061512725,1.2777851165098015 L 2.4409606321741775,1.2356983684129992 L 2.461939766255643,1.1913417161825455 L 2.4784701678661043,1.145142338627232 L 2.490392640201615,1.0975451610080649 L 2.497592363336098,1.049008570164781 L 2.5,1.0 L 2.5,0.0 L 2.4975923633360986,-0.0490085701647803 L 2.490392640201615,-0.09754516100806412 L 2.4784701678661043,-0.14514233862723117 L 2.4619397662556435,-0.1913417161825449 L 2.4409606321741775,-0.23569836841299882 L 2.4157348061512725,-0.2777851165098011 L 2.3865052266813684,-0.31719664208182274 L 2.353553390593274,-0.35355339059327373 L 2.317196642081823,-0.3865052266813685 L 2.277785116509801,-0.4157348061512726 L 2.235698368412999,-0.44096063217417747 L 2.191341716182545,-0.46193976625564337 L 2.145142338627231,-0.47847016786610447 L 2.097545161008064,-0.4903926402016152 L 2.0490085701647804,-0.4975923633360984 L 2.0,-0.5 L 1.5,-0.5 L 1.5,-1.0 L 1.4975923633360984,-1.049008570164781 L 1.4903926402016152,-1.0975451610080649 L 1.4784701678661043,-1.1451423386272317 L 1.461939766255643,-1.1913417161825455 L 1.4409606321741772,-1.2356983684129992 L 1.4157348061512725,-1.2777851165098015 L 1.3865052266813682,-1.317196642081823 L 1.3535533905932735,-1.353553390593274 L 1.3171966420818224,-1.3865052266813687 L 1.2777851165098009,-1.4157348061512727 L 1.2356983684129987,-1.4409606321741775 L 1.1913417161825448,-1.4619397662556435 L 1.1451423386272312,-1.4784701678661045 L 1.0975451610080642,-1.4903926402016152 L 1.0490085701647804,-1.4975923633360984 L 1.0000000000000002,-1.5 L 0.9509914298352199,-1.4975923633360986 L 0.9024548389919361,-1.4903926402016152 L 0.8548576613727691,-1.4784701678661045 L 0.8086582838174554,-1.4619397662556435 L 0.7643016315870016,-1.4409606321741777 L 0.7222148834901994,-1.415734806151273 L 0.6828033579181775,-1.3865052266813687 L 0.6464466094067266,-1.3535533905932742 L 0.613494773318632,-1.3171966420818233 L 0.5842651938487278,-1.2777851165098018 L 0.5590393678258228,-1.2356983684129994 L 0.538060233744357,-1.1913417161825455 L 0.5215298321338958,-1.145142338627232 L 0.509607359798385,-1.097545161008065 L 0.5024076366639016,-1.049008570164781 L 0.5,-1.0 L 0.5,0.0 z\" /></g></svg>"
      ],
      "text/plain": [
       "<shapely.geometry.polygon.Polygon at 0x7f38dc5f4af0>"
      ]
     },
     "execution_count": 30,
     "metadata": {},
     "output_type": "execute_result"
    }
   ],
   "source": [
    "s.buffer(0.5)[1]"
   ]
  },
  {
   "cell_type": "code",
   "execution_count": 31,
   "id": "bd454153",
   "metadata": {},
   "outputs": [
    {
     "data": {
      "image/svg+xml": [
       "<svg xmlns=\"http://www.w3.org/2000/svg\" xmlns:xlink=\"http://www.w3.org/1999/xlink\" width=\"100.0\" height=\"100.0\" viewBox=\"2.38 -1.62 2.24 3.24\" preserveAspectRatio=\"xMinYMin meet\"><g transform=\"matrix(1,0,0,-1,0,0.0)\"><path fill-rule=\"evenodd\" fill=\"#66cc99\" stroke=\"#555555\" stroke-width=\"0.06480000000000001\" opacity=\"0.6\" d=\"M 2.5,-1.0 L 2.5,1.0 L 2.5024076366639014,1.0490085701647804 L 2.509607359798385,1.0975451610080642 L 2.5215298321338957,1.1451423386272315 L 2.5380602337443565,1.191341716182545 L 2.5590393678258225,1.235698368412999 L 2.5842651938487275,1.2777851165098013 L 2.6134947733186316,1.3171966420818229 L 2.646446609406726,1.3535533905932737 L 2.682803357918177,1.3865052266813684 L 2.722214883490199,1.4157348061512727 L 2.7643016315870015,1.4409606321741777 L 2.808658283817455,1.4619397662556435 L 2.854857661372769,1.4784701678661045 L 2.902454838991936,1.4903926402016152 L 2.95099142983522,1.4975923633360986 L 3.0,1.5 L 3.0490085701647804,1.4975923633360984 L 3.0975451610080644,1.4903926402016152 L 3.1451423386272315,1.4784701678661043 L 3.191341716182545,1.4619397662556433 L 3.235698368412999,1.4409606321741775 L 3.277785116509801,1.4157348061512725 L 3.317196642081823,1.3865052266813684 L 3.353553390593274,1.3535533905932737 L 4.353553390593274,0.35355339059327373 L 4.386505226681368,0.31719664208182263 L 4.4157348061512725,0.277785116509801 L 4.4409606321741775,0.2356983684129987 L 4.461939766255643,0.19134171618254484 L 4.478470167866105,0.14514233862723108 L 4.490392640201615,0.09754516100806408 L 4.497592363336098,0.0490085701647803 L 4.5,0.0 L 4.497592363336098,-0.0490085701647803 L 4.490392640201615,-0.09754516100806408 L 4.478470167866105,-0.14514233862723114 L 4.461939766255643,-0.1913417161825448 L 4.4409606321741775,-0.2356983684129987 L 4.4157348061512725,-0.27778511650980103 L 4.386505226681368,-0.31719664208182263 L 4.353553390593274,-0.35355339059327373 L 3.353553390593274,-1.3535533905932737 L 3.3171966420818233,-1.3865052266813682 L 3.2777851165098015,-1.4157348061512722 L 3.2356983684129994,-1.4409606321741772 L 3.1913417161825457,-1.461939766255643 L 3.145142338627232,-1.4784701678661043 L 3.0975451610080653,-1.490392640201615 L 3.0490085701647813,-1.4975923633360984 L 3.0000000000000013,-1.5 L 2.950991429835221,-1.4975923633360986 L 2.9024548389919373,-1.4903926402016154 L 2.8548576613727703,-1.478470167866105 L 2.8086582838174565,-1.461939766255644 L 2.764301631587003,-1.4409606321741784 L 2.7222148834902002,-1.4157348061512738 L 2.682803357918179,-1.3865052266813698 L 2.646446609406728,-1.3535533905932753 L 2.613494773318633,-1.3171966420818246 L 2.584265193848729,-1.277785116509803 L 2.559039367825824,-1.2356983684130012 L 2.538060233744358,-1.1913417161825475 L 2.5215298321338966,-1.145142338627234 L 2.5096073597983852,-1.0975451610080669 L 2.502407636663902,-1.0490085701647833 L 2.5,-1.0 z\" /></g></svg>"
      ],
      "text/plain": [
       "<shapely.geometry.polygon.Polygon at 0x7f389b22e670>"
      ]
     },
     "execution_count": 31,
     "metadata": {},
     "output_type": "execute_result"
    }
   ],
   "source": [
    "s.buffer(0.5)[2]"
   ]
  },
  {
   "cell_type": "code",
   "execution_count": null,
   "id": "ffb46b23",
   "metadata": {},
   "outputs": [],
   "source": []
  }
 ],
 "metadata": {
  "kernelspec": {
   "display_name": "Python 3 (ipykernel)",
   "language": "python",
   "name": "python3"
  },
  "language_info": {
   "codemirror_mode": {
    "name": "ipython",
    "version": 3
   },
   "file_extension": ".py",
   "mimetype": "text/x-python",
   "name": "python",
   "nbconvert_exporter": "python",
   "pygments_lexer": "ipython3",
   "version": "3.9.5"
  }
 },
 "nbformat": 4,
 "nbformat_minor": 5
}
